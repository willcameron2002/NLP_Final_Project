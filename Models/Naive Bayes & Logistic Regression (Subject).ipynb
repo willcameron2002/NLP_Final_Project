{
 "cells": [
  {
   "cell_type": "code",
   "execution_count": 29,
   "id": "f2efb0c9",
   "metadata": {},
   "outputs": [],
   "source": [
    "import numpy as np\n",
    "import pandas as pd"
   ]
  },
  {
   "cell_type": "code",
   "execution_count": 30,
   "id": "eecc7845",
   "metadata": {},
   "outputs": [],
   "source": [
    "from sklearn.model_selection import train_test_split as tts\n",
    "\n",
    "keys = pd.read_csv('FINAL DATASETS/Lillard Final Key.csv')\n",
    "\n",
    "X_train, X_test, y_train, y_test = tts(keys['Tweet'], keys['Subject'], test_size = 0.2, random_state = 37)"
   ]
  },
  {
   "cell_type": "code",
   "execution_count": 31,
   "id": "4a9a5459",
   "metadata": {},
   "outputs": [
    {
     "data": {
      "text/plain": [
       "(0    318\n",
       " 3     66\n",
       " 1     52\n",
       " 2     44\n",
       " Name: Subject, dtype: int64,\n",
       " 0    83\n",
       " 3    14\n",
       " 1    12\n",
       " 2    11\n",
       " Name: Subject, dtype: int64)"
      ]
     },
     "execution_count": 31,
     "metadata": {},
     "output_type": "execute_result"
    }
   ],
   "source": [
    "y_train.value_counts(), y_test.value_counts()"
   ]
  },
  {
   "cell_type": "code",
   "execution_count": 32,
   "id": "2a7bbca0",
   "metadata": {},
   "outputs": [],
   "source": [
    "from sklearn.feature_extraction.text import CountVectorizer\n",
    "\n",
    "vectorizer = CountVectorizer(stop_words='english')\n",
    "train_vectors = vectorizer.fit_transform(X_train)\n",
    "validation_vectors = vectorizer.transform(X_test)"
   ]
  },
  {
   "cell_type": "code",
   "execution_count": 33,
   "id": "1c881c62",
   "metadata": {},
   "outputs": [
    {
     "name": "stdout",
     "output_type": "stream",
     "text": [
      "Accuracy: 0.78\n"
     ]
    }
   ],
   "source": [
    "from sklearn.naive_bayes import MultinomialNB\n",
    "from sklearn.metrics import accuracy_score\n",
    "\n",
    "classifier = MultinomialNB()\n",
    "classifier.fit(train_vectors, y_train)\n",
    "\n",
    "# Make predictions on the validation data\n",
    "y_pred = classifier.predict(validation_vectors)\n",
    "\n",
    "# Calculate the accuracy of the classifier\n",
    "accuracy = accuracy_score(y_test, y_pred)\n",
    "print(f'Accuracy: {accuracy:.2f}')"
   ]
  },
  {
   "cell_type": "code",
   "execution_count": 34,
   "id": "b7d9cc06",
   "metadata": {},
   "outputs": [
    {
     "data": {
      "text/plain": [
       "array([318.,  52.,  44.,  66.])"
      ]
     },
     "execution_count": 34,
     "metadata": {},
     "output_type": "execute_result"
    }
   ],
   "source": [
    "classifier.class_count_"
   ]
  },
  {
   "cell_type": "code",
   "execution_count": 35,
   "id": "6f9ed1d6",
   "metadata": {},
   "outputs": [
    {
     "data": {
      "text/plain": [
       "<AxesSubplot:>"
      ]
     },
     "execution_count": 35,
     "metadata": {},
     "output_type": "execute_result"
    },
    {
     "data": {
      "image/png": "[encoded data removed]",
      "text/plain": [
       "<Figure size 432x288 with 2 Axes>"
      ]
     },
     "metadata": {
      "needs_background": "light"
     },
     "output_type": "display_data"
    }
   ],
   "source": [
    "import seaborn as sns\n",
    "from sklearn.metrics import confusion_matrix\n",
    "\n",
    "## visualize the confusion matrix\n",
    "cfm = confusion_matrix(y_test, y_pred)\n",
    "\n",
    "## plot the confusion matrix\n",
    "sns.heatmap(cfm, annot=True, fmt='d', cmap='Blues', xticklabels=['none', 'defense', 'offense', 'both'], yticklabels=['none', 'defense', 'offense', 'both'])"
   ]
  },
  {
   "cell_type": "code",
   "execution_count": 36,
   "id": "0eda13e2",
   "metadata": {},
   "outputs": [
    {
     "name": "stdout",
     "output_type": "stream",
     "text": [
      "Accuracy: 0.89\n"
     ]
    }
   ],
   "source": [
    "from sklearn.linear_model import LogisticRegression\n",
    "\n",
    "lr = LogisticRegression()\n",
    "lr.fit(train_vectors, y_train)\n",
    "\n",
    "y_pred = lr.predict(validation_vectors)\n",
    "\n",
    "accuracy = accuracy_score(y_test, y_pred)\n",
    "print(f'Accuracy: {accuracy:.2f}')"
   ]
  },
  {
   "cell_type": "code",
   "execution_count": 37,
   "id": "3f3e4718",
   "metadata": {},
   "outputs": [
    {
     "data": {
      "text/plain": [
       "<AxesSubplot:>"
      ]
     },
     "execution_count": 37,
     "metadata": {},
     "output_type": "execute_result"
    },
    {
     "data": {
      "image/png": "[encoded data removed]",
      "text/plain": [
       "<Figure size 432x288 with 2 Axes>"
      ]
     },
     "metadata": {
      "needs_background": "light"
     },
     "output_type": "display_data"
    }
   ],
   "source": [
    "## visualize the confusion matrix\n",
    "cfm = confusion_matrix(y_test, y_pred)\n",
    "\n",
    "## plot the confusion matrix\n",
    "sns.heatmap(cfm, annot=True, fmt='d', cmap='Blues', xticklabels=['none', 'defense', 'offense', 'both'], yticklabels=['none', 'defense', 'offense', 'both'])"
   ]
  },
  {
   "cell_type": "code",
   "execution_count": 38,
   "id": "9020623e",
   "metadata": {},
   "outputs": [],
   "source": [
    "data = pd.read_csv('FINAL DATASETS/Lillard Trade Final.csv')"
   ]
  },
  {
   "cell_type": "code",
   "execution_count": null,
   "id": "10530258",
   "metadata": {},
   "outputs": [],
   "source": []
  }
 ],
 "metadata": {
  "kernelspec": {
   "display_name": "Python 3 (ipykernel)",
   "language": "python",
   "name": "python3"
  },
  "language_info": {
   "codemirror_mode": {
    "name": "ipython",
    "version": 3
   },
   "file_extension": ".py",
   "mimetype": "text/x-python",
   "name": "python",
   "nbconvert_exporter": "python",
   "pygments_lexer": "ipython3",
   "version": "3.9.12"
  }
 },
 "nbformat": 4,
 "nbformat_minor": 5
}
