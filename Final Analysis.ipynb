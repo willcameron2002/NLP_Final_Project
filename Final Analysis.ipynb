{
 "cells": [
  {
   "cell_type": "code",
   "execution_count": 1,
   "id": "0ab1ac58",
   "metadata": {},
   "outputs": [],
   "source": [
    "import pandas as pd\n",
    "\n",
    "data = pd.read_csv('FINAL DATASETS\\Lillard Predictions Final.csv')"
   ]
  },
  {
   "cell_type": "code",
   "execution_count": 2,
   "id": "afd0de02",
   "metadata": {},
   "outputs": [],
   "source": [
    "# Lets remove all \"neutral\" tweets because they don't tell us much\n",
    "data = data[data['Sentiment'] != 'Neutral']"
   ]
  },
  {
   "cell_type": "code",
   "execution_count": 3,
   "id": "8aeb172c",
   "metadata": {},
   "outputs": [
    {
     "data": {
      "text/plain": [
       "(588, 8)"
      ]
     },
     "execution_count": 3,
     "metadata": {},
     "output_type": "execute_result"
    }
   ],
   "source": [
    "data.shape"
   ]
  },
  {
   "cell_type": "code",
   "execution_count": 4,
   "id": "4519b51a",
   "metadata": {},
   "outputs": [
    {
     "data": {
      "text/plain": [
       "(Positive    285\n",
       " Negative     74\n",
       " Name: Sentiment, dtype: int64,\n",
       " 3.8513513513513513)"
      ]
     },
     "execution_count": 4,
     "metadata": {},
     "output_type": "execute_result"
    }
   ],
   "source": [
    "# Subjects 'neither' and 'both' essentially tell the same information,\n",
    "# lets combine them and get info\n",
    "nb = pd.concat([data[data['Subject']=='Neither'],data[data['Subject']=='Both']])\n",
    "counts = nb['Sentiment'].value_counts()\n",
    "nb_ratio = counts[0]/counts[1]\n",
    "counts, nb_ratio"
   ]
  },
  {
   "cell_type": "code",
   "execution_count": 5,
   "id": "641c1944",
   "metadata": {},
   "outputs": [
    {
     "data": {
      "text/plain": [
       "(Negative    76\n",
       " Positive    58\n",
       " Name: Sentiment, dtype: int64,\n",
       " 1.3103448275862069)"
      ]
     },
     "execution_count": 5,
     "metadata": {},
     "output_type": "execute_result"
    }
   ],
   "source": [
    "counts = data[data['Subject']=='Defense']['Sentiment'].value_counts()\n",
    "defense = counts[0]/counts[1]\n",
    "counts, defense"
   ]
  },
  {
   "cell_type": "code",
   "execution_count": 6,
   "id": "5a423458",
   "metadata": {},
   "outputs": [
    {
     "data": {
      "text/plain": [
       "(Positive    82\n",
       " Negative    13\n",
       " Name: Sentiment, dtype: int64,\n",
       " 6.3076923076923075)"
      ]
     },
     "execution_count": 6,
     "metadata": {},
     "output_type": "execute_result"
    }
   ],
   "source": [
    "counts = data[data['Subject']=='Offense']['Sentiment'].value_counts()\n",
    "offense = counts[0]/counts[1]\n",
    "counts, offense"
   ]
  },
  {
   "cell_type": "code",
   "execution_count": 7,
   "id": "d86adfe0",
   "metadata": {},
   "outputs": [
    {
     "data": {
      "text/plain": [
       "(113.21034482758621, 121.70769230769231, 7.451351351351351)"
      ]
     },
     "execution_count": 7,
     "metadata": {},
     "output_type": "execute_result"
    }
   ],
   "source": [
    "BUCKS_DRTG_LAST_YEAR = 111.9  # Defensive rating: lower = better\n",
    "BUCKS_ORTG_LAST_YEAR = 115.4  # Offensive rating: higher = better\n",
    "BUCKS_NRTG_LAST_YEAR = 3.6    # Net rating: higher = better\n",
    "\n",
    "BUCKS_DRTG_THIS_YEAR = 115.3\n",
    "BUCKS_ORTG_THIS_YEAR = 120.5\n",
    "BUCKS_NRTG_THIS_YEAR = 5.1\n",
    "\n",
    "DRTG_prediction = BUCKS_DRTG_LAST_YEAR + defense\n",
    "ORTG_prediction = BUCKS_ORTG_LAST_YEAR + offense\n",
    "NRTG_prediction = BUCKS_NRTG_LAST_YEAR + nb_ratio\n",
    "\n",
    "DRTG_prediction, ORTG_prediction, NRTG_prediction"
   ]
  },
  {
   "cell_type": "code",
   "execution_count": 8,
   "id": "99f451f6",
   "metadata": {},
   "outputs": [],
   "source": [
    "def percent_error(real, pred):\n",
    "    return abs((real-pred)/real)*100"
   ]
  },
  {
   "cell_type": "code",
   "execution_count": 9,
   "id": "c78eacdb",
   "metadata": {},
   "outputs": [
    {
     "data": {
      "text/plain": [
       "(1.8123635493614787, 1.0022342802425828, 46.10492845786965)"
      ]
     },
     "execution_count": 9,
     "metadata": {},
     "output_type": "execute_result"
    }
   ],
   "source": [
    "percent_error(BUCKS_DRTG_THIS_YEAR, DRTG_prediction),percent_error(BUCKS_ORTG_THIS_YEAR, ORTG_prediction),percent_error(BUCKS_NRTG_THIS_YEAR, NRTG_prediction)"
   ]
  },
  {
   "cell_type": "code",
   "execution_count": null,
   "id": "0f6f4045",
   "metadata": {},
   "outputs": [],
   "source": []
  },
  {
   "cell_type": "code",
   "execution_count": null,
   "id": "6a80395c",
   "metadata": {},
   "outputs": [],
   "source": []
  }
 ],
 "metadata": {
  "kernelspec": {
   "display_name": "Python 3 (ipykernel)",
   "language": "python",
   "name": "python3"
  },
  "language_info": {
   "codemirror_mode": {
    "name": "ipython",
    "version": 3
   },
   "file_extension": ".py",
   "mimetype": "text/x-python",
   "name": "python",
   "nbconvert_exporter": "python",
   "pygments_lexer": "ipython3",
   "version": "3.9.12"
  }
 },
 "nbformat": 4,
 "nbformat_minor": 5
}
